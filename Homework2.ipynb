{
 "cells": [
  {
   "cell_type": "code",
   "execution_count": 170,
   "metadata": {
    "collapsed": true
   },
   "outputs": [],
   "source": [
    "import pandas as pd\n",
    "import numpy as np"
   ]
  },
  {
   "cell_type": "code",
   "execution_count": 171,
   "metadata": {
    "collapsed": true,
    "scrolled": false
   },
   "outputs": [],
   "source": [
    "temps = pd.read_csv(\"temperatures.csv\")"
   ]
  },
  {
   "cell_type": "code",
   "execution_count": 172,
   "metadata": {},
   "outputs": [
    {
     "data": {
      "text/plain": [
       "pandas.core.frame.DataFrame"
      ]
     },
     "execution_count": 172,
     "metadata": {},
     "output_type": "execute_result"
    }
   ],
   "source": [
    "type(temps)"
   ]
  },
  {
   "cell_type": "code",
   "execution_count": 173,
   "metadata": {},
   "outputs": [
    {
     "data": {
      "text/plain": [
       "-7.0"
      ]
     },
     "execution_count": 173,
     "metadata": {},
     "output_type": "execute_result"
    }
   ],
   "source": [
    "temps['tmin'].min()"
   ]
  },
  {
   "cell_type": "code",
   "execution_count": 174,
   "metadata": {},
   "outputs": [
    {
     "data": {
      "text/plain": [
       "83.0"
      ]
     },
     "execution_count": 174,
     "metadata": {},
     "output_type": "execute_result"
    }
   ],
   "source": [
    "temps['tmin'].max()"
   ]
  },
  {
   "cell_type": "code",
   "execution_count": 175,
   "metadata": {},
   "outputs": [
    {
     "data": {
      "text/plain": [
       "46.46086514790356"
      ]
     },
     "execution_count": 175,
     "metadata": {},
     "output_type": "execute_result"
    }
   ],
   "source": [
    "temps['tmin'].mean()"
   ]
  },
  {
   "cell_type": "code",
   "execution_count": 176,
   "metadata": {},
   "outputs": [
    {
     "name": "stdout",
     "output_type": "stream",
     "text": [
      "year\n",
      "month\n",
      "day\n",
      "tmin\n",
      "tmax\n"
     ]
    }
   ],
   "source": [
    "for col in temps.columns:\n",
    "    print(col)"
   ]
  },
  {
   "cell_type": "code",
   "execution_count": 177,
   "metadata": {},
   "outputs": [
    {
     "name": "stdout",
     "output_type": "stream",
     "text": [
      "year min: 1948\n",
      "year max: 2018\n",
      "year average: 1982.531554061975\n",
      "month min: 1\n",
      "month max: 12\n",
      "month average: 6.517877378765973\n",
      "day min: 1\n",
      "day max: 31\n",
      "day average: 15.726544488296668\n",
      "tmin min: -7.0\n",
      "tmin max: 83.0\n",
      "tmin average: 46.46086514790356\n",
      "tmax min: 6.0\n",
      "tmax max: 104.0\n",
      "tmax average: 64.26661717009887\n"
     ]
    }
   ],
   "source": [
    "for col in temps.columns:\n",
    "    print(col, \"min:\", temps[col].min())\n",
    "    print(col, \"max:\", temps[col].max())\n",
    "    print(col, \"average:\", temps[col].mean())"
   ]
  },
  {
   "cell_type": "code",
   "execution_count": 178,
   "metadata": {},
   "outputs": [
    {
     "name": "stdout",
     "output_type": "stream",
     "text": [
      "-4.0\n",
      "50.0\n",
      "26.58392315470172\n",
      "11.0\n",
      "74.0\n",
      "42.676946410515676\n"
     ]
    }
   ],
   "source": [
    "isFeb = (temps['month'] == 2)\n",
    "febDays = temps[isFeb] #pulls all the days in February\n",
    "print(febDays['tmin'].min())\n",
    "print(febDays['tmin'].max())\n",
    "print(febDays['tmin'].mean())\n",
    "print(febDays['tmax'].min())\n",
    "print(febDays['tmax'].max())\n",
    "print(febDays['tmax'].mean())"
   ]
  },
  {
   "cell_type": "code",
   "execution_count": 179,
   "metadata": {},
   "outputs": [
    {
     "name": "stdout",
     "output_type": "stream",
     "text": [
      "27.0\n",
      "8.796541623864119\n"
     ]
    }
   ],
   "source": [
    "print(febDays['tmin'].median())\n",
    "print(febDays['tmin'].std())"
   ]
  },
  {
   "cell_type": "code",
   "execution_count": 180,
   "metadata": {},
   "outputs": [
    {
     "name": "stdout",
     "output_type": "stream",
     "text": [
      "42.0\n",
      "10.558902606668775\n"
     ]
    }
   ],
   "source": [
    "print(febDays['tmax'].median())\n",
    "print(febDays['tmax'].std())"
   ]
  }
 ],
 "metadata": {
  "kernelspec": {
   "display_name": "Python 3",
   "language": "python",
   "name": "python3"
  },
  "language_info": {
   "codemirror_mode": {
    "name": "ipython",
    "version": 3
   },
   "file_extension": ".py",
   "mimetype": "text/x-python",
   "name": "python",
   "nbconvert_exporter": "python",
   "pygments_lexer": "ipython3",
   "version": "3.6.3"
  }
 },
 "nbformat": 4,
 "nbformat_minor": 2
}
